{
 "cells": [
  {
   "cell_type": "code",
   "execution_count": 5,
   "metadata": {},
   "outputs": [
    {
     "name": "stderr",
     "output_type": "stream",
     "text": [
      "Warning message:\n",
      "\"package 'ggthemes' was built under R version 3.6.3\"Warning message:\n",
      "\"package 'leaflet' was built under R version 3.6.3\""
     ]
    }
   ],
   "source": [
    "library(tidyverse)\n",
    "library(dplyr)\n",
    "library(ggplot2)\n",
    "library(ggthemes)\n",
    "library(leaflet)"
   ]
  },
  {
   "cell_type": "code",
   "execution_count": 13,
   "metadata": {},
   "outputs": [],
   "source": [
    "#read in the files\n",
    "trips <- read.csv(\"https://raw.githubusercontent.com/sumusa/Data-Visualization-Course/master/Client%20Work/gtfs%20data/trips.txt\")\n",
    "shapes <- read.csv(\"https://raw.githubusercontent.com/sumusa/Data-Visualization-Course/master/Client%20Work/gtfs%20data/shapes.txt\")\n",
    "routes <- read.csv(\"https://raw.githubusercontent.com/sumusa/Data-Visualization-Course/master/Client%20Work/gtfs%20data/routes.txt\")\n",
    "stop_times <- read.csv(\"https://raw.githubusercontent.com/sumusa/Data-Visualization-Course/master/Client%20Work/gtfs%20data/stop_times.txt\",\n",
    "                      colClasses = c(\"arrival_time\" = \"character\", \"departure_time\" = \"character\"))"
   ]
  },
  {
   "cell_type": "code",
   "execution_count": 14,
   "metadata": {},
   "outputs": [
    {
     "data": {
      "text/html": [
       "<table>\n",
       "<thead><tr><th scope=col>trip_id</th><th scope=col>arrival_time</th><th scope=col>departure_time</th><th scope=col>stop_id</th><th scope=col>stop_sequence</th><th scope=col>stop_headsign</th><th scope=col>pickup_type</th><th scope=col>drop_off_type</th><th scope=col>shape_dist_traveled</th><th scope=col>timepoint</th></tr></thead>\n",
       "<tbody>\n",
       "\t<tr><td>178899  </td><td>23:30:00</td><td>23:30:00</td><td>1000    </td><td>1       </td><td>NA      </td><td>0       </td><td>0       </td><td>    NA  </td><td>1       </td></tr>\n",
       "\t<tr><td>178899  </td><td>23:31:34</td><td>23:31:34</td><td>1010    </td><td>2       </td><td>NA      </td><td>0       </td><td>0       </td><td>0.7651  </td><td>0       </td></tr>\n",
       "\t<tr><td>178899  </td><td>23:31:54</td><td>23:31:54</td><td>1015    </td><td>3       </td><td>NA      </td><td>0       </td><td>0       </td><td>0.9339  </td><td>0       </td></tr>\n",
       "\t<tr><td>178899  </td><td>23:32:31</td><td>23:32:31</td><td>1020    </td><td>4       </td><td>NA      </td><td>0       </td><td>0       </td><td>1.2333  </td><td>0       </td></tr>\n",
       "\t<tr><td>178899  </td><td>23:33:05</td><td>23:33:05</td><td>1025    </td><td>5       </td><td>NA      </td><td>0       </td><td>0       </td><td>1.5145  </td><td>0       </td></tr>\n",
       "\t<tr><td>178899  </td><td>23:33:32</td><td>23:33:32</td><td>1030    </td><td>6       </td><td>NA      </td><td>0       </td><td>0       </td><td>1.7336  </td><td>0       </td></tr>\n",
       "</tbody>\n",
       "</table>\n"
      ],
      "text/latex": [
       "\\begin{tabular}{r|llllllllll}\n",
       " trip\\_id & arrival\\_time & departure\\_time & stop\\_id & stop\\_sequence & stop\\_headsign & pickup\\_type & drop\\_off\\_type & shape\\_dist\\_traveled & timepoint\\\\\n",
       "\\hline\n",
       "\t 178899   & 23:30:00 & 23:30:00 & 1000     & 1        & NA       & 0        & 0        &     NA   & 1       \\\\\n",
       "\t 178899   & 23:31:34 & 23:31:34 & 1010     & 2        & NA       & 0        & 0        & 0.7651   & 0       \\\\\n",
       "\t 178899   & 23:31:54 & 23:31:54 & 1015     & 3        & NA       & 0        & 0        & 0.9339   & 0       \\\\\n",
       "\t 178899   & 23:32:31 & 23:32:31 & 1020     & 4        & NA       & 0        & 0        & 1.2333   & 0       \\\\\n",
       "\t 178899   & 23:33:05 & 23:33:05 & 1025     & 5        & NA       & 0        & 0        & 1.5145   & 0       \\\\\n",
       "\t 178899   & 23:33:32 & 23:33:32 & 1030     & 6        & NA       & 0        & 0        & 1.7336   & 0       \\\\\n",
       "\\end{tabular}\n"
      ],
      "text/markdown": [
       "\n",
       "| trip_id | arrival_time | departure_time | stop_id | stop_sequence | stop_headsign | pickup_type | drop_off_type | shape_dist_traveled | timepoint |\n",
       "|---|---|---|---|---|---|---|---|---|---|\n",
       "| 178899   | 23:30:00 | 23:30:00 | 1000     | 1        | NA       | 0        | 0        |     NA   | 1        |\n",
       "| 178899   | 23:31:34 | 23:31:34 | 1010     | 2        | NA       | 0        | 0        | 0.7651   | 0        |\n",
       "| 178899   | 23:31:54 | 23:31:54 | 1015     | 3        | NA       | 0        | 0        | 0.9339   | 0        |\n",
       "| 178899   | 23:32:31 | 23:32:31 | 1020     | 4        | NA       | 0        | 0        | 1.2333   | 0        |\n",
       "| 178899   | 23:33:05 | 23:33:05 | 1025     | 5        | NA       | 0        | 0        | 1.5145   | 0        |\n",
       "| 178899   | 23:33:32 | 23:33:32 | 1030     | 6        | NA       | 0        | 0        | 1.7336   | 0        |\n",
       "\n"
      ],
      "text/plain": [
       "  trip_id arrival_time departure_time stop_id stop_sequence stop_headsign\n",
       "1 178899  23:30:00     23:30:00       1000    1             NA           \n",
       "2 178899  23:31:34     23:31:34       1010    2             NA           \n",
       "3 178899  23:31:54     23:31:54       1015    3             NA           \n",
       "4 178899  23:32:31     23:32:31       1020    4             NA           \n",
       "5 178899  23:33:05     23:33:05       1025    5             NA           \n",
       "6 178899  23:33:32     23:33:32       1030    6             NA           \n",
       "  pickup_type drop_off_type shape_dist_traveled timepoint\n",
       "1 0           0                 NA              1        \n",
       "2 0           0             0.7651              0        \n",
       "3 0           0             0.9339              0        \n",
       "4 0           0             1.2333              0        \n",
       "5 0           0             1.5145              0        \n",
       "6 0           0             1.7336              0        "
      ]
     },
     "metadata": {},
     "output_type": "display_data"
    }
   ],
   "source": [
    "head(stop_times)"
   ]
  },
  {
   "cell_type": "code",
   "execution_count": 15,
   "metadata": {},
   "outputs": [
    {
     "name": "stderr",
     "output_type": "stream",
     "text": [
      "Joining, by = \"trip_id\"\n",
      "Joining, by = \"route_id\"\n"
     ]
    }
   ],
   "source": [
    "#join the stop times, trips and routes dataframe\n",
    "stop_times <- stop_times %>% \n",
    "  left_join(trips) %>% \n",
    "  left_join(routes) %>% \n",
    "  select(route_id, route_short_name, trip_id, stop_id, service_id, arrival_time, \n",
    "         departure_time, direction_id, shape_id, stop_sequence)"
   ]
  },
  {
   "cell_type": "code",
   "execution_count": 19,
   "metadata": {},
   "outputs": [
    {
     "data": {
      "text/html": [
       "<table>\n",
       "<thead><tr><th scope=col>route_id</th><th scope=col>route_short_name</th><th scope=col>trip_id</th><th scope=col>stop_id</th><th scope=col>service_id</th><th scope=col>arrival_time</th><th scope=col>departure_time</th><th scope=col>direction_id</th><th scope=col>shape_id</th><th scope=col>stop_sequence</th></tr></thead>\n",
       "<tbody>\n",
       "\t<tr><td>1       </td><td>1       </td><td>178899  </td><td>1000    </td><td>1       </td><td>23:30:00</td><td>23:30:00</td><td>0       </td><td>14128   </td><td> 1      </td></tr>\n",
       "\t<tr><td>1       </td><td>1       </td><td>178899  </td><td>1010    </td><td>1       </td><td>23:31:34</td><td>23:31:34</td><td>0       </td><td>14128   </td><td> 2      </td></tr>\n",
       "\t<tr><td>1       </td><td>1       </td><td>178899  </td><td>1015    </td><td>1       </td><td>23:31:54</td><td>23:31:54</td><td>0       </td><td>14128   </td><td> 3      </td></tr>\n",
       "\t<tr><td>1       </td><td>1       </td><td>178899  </td><td>1020    </td><td>1       </td><td>23:32:31</td><td>23:32:31</td><td>0       </td><td>14128   </td><td> 4      </td></tr>\n",
       "\t<tr><td>1       </td><td>1       </td><td>178899  </td><td>1025    </td><td>1       </td><td>23:33:05</td><td>23:33:05</td><td>0       </td><td>14128   </td><td> 5      </td></tr>\n",
       "\t<tr><td>1       </td><td>1       </td><td>178899  </td><td>1030    </td><td>1       </td><td>23:33:32</td><td>23:33:32</td><td>0       </td><td>14128   </td><td> 6      </td></tr>\n",
       "\t<tr><td>1       </td><td>1       </td><td>178899  </td><td>1035    </td><td>1       </td><td>23:33:56</td><td>23:33:56</td><td>0       </td><td>14128   </td><td> 7      </td></tr>\n",
       "\t<tr><td>1       </td><td>1       </td><td>178899  </td><td>1040    </td><td>1       </td><td>23:34:11</td><td>23:34:11</td><td>0       </td><td>14128   </td><td> 8      </td></tr>\n",
       "\t<tr><td>1       </td><td>1       </td><td>178899  </td><td>1045    </td><td>1       </td><td>23:34:36</td><td>23:34:36</td><td>0       </td><td>14128   </td><td> 9      </td></tr>\n",
       "\t<tr><td>1       </td><td>1       </td><td>178899  </td><td>1050    </td><td>1       </td><td>23:35:09</td><td>23:35:09</td><td>0       </td><td>14128   </td><td>10      </td></tr>\n",
       "</tbody>\n",
       "</table>\n"
      ],
      "text/latex": [
       "\\begin{tabular}{r|llllllllll}\n",
       " route\\_id & route\\_short\\_name & trip\\_id & stop\\_id & service\\_id & arrival\\_time & departure\\_time & direction\\_id & shape\\_id & stop\\_sequence\\\\\n",
       "\\hline\n",
       "\t 1        & 1        & 178899   & 1000     & 1        & 23:30:00 & 23:30:00 & 0        & 14128    &  1      \\\\\n",
       "\t 1        & 1        & 178899   & 1010     & 1        & 23:31:34 & 23:31:34 & 0        & 14128    &  2      \\\\\n",
       "\t 1        & 1        & 178899   & 1015     & 1        & 23:31:54 & 23:31:54 & 0        & 14128    &  3      \\\\\n",
       "\t 1        & 1        & 178899   & 1020     & 1        & 23:32:31 & 23:32:31 & 0        & 14128    &  4      \\\\\n",
       "\t 1        & 1        & 178899   & 1025     & 1        & 23:33:05 & 23:33:05 & 0        & 14128    &  5      \\\\\n",
       "\t 1        & 1        & 178899   & 1030     & 1        & 23:33:32 & 23:33:32 & 0        & 14128    &  6      \\\\\n",
       "\t 1        & 1        & 178899   & 1035     & 1        & 23:33:56 & 23:33:56 & 0        & 14128    &  7      \\\\\n",
       "\t 1        & 1        & 178899   & 1040     & 1        & 23:34:11 & 23:34:11 & 0        & 14128    &  8      \\\\\n",
       "\t 1        & 1        & 178899   & 1045     & 1        & 23:34:36 & 23:34:36 & 0        & 14128    &  9      \\\\\n",
       "\t 1        & 1        & 178899   & 1050     & 1        & 23:35:09 & 23:35:09 & 0        & 14128    & 10      \\\\\n",
       "\\end{tabular}\n"
      ],
      "text/markdown": [
       "\n",
       "| route_id | route_short_name | trip_id | stop_id | service_id | arrival_time | departure_time | direction_id | shape_id | stop_sequence |\n",
       "|---|---|---|---|---|---|---|---|---|---|\n",
       "| 1        | 1        | 178899   | 1000     | 1        | 23:30:00 | 23:30:00 | 0        | 14128    |  1       |\n",
       "| 1        | 1        | 178899   | 1010     | 1        | 23:31:34 | 23:31:34 | 0        | 14128    |  2       |\n",
       "| 1        | 1        | 178899   | 1015     | 1        | 23:31:54 | 23:31:54 | 0        | 14128    |  3       |\n",
       "| 1        | 1        | 178899   | 1020     | 1        | 23:32:31 | 23:32:31 | 0        | 14128    |  4       |\n",
       "| 1        | 1        | 178899   | 1025     | 1        | 23:33:05 | 23:33:05 | 0        | 14128    |  5       |\n",
       "| 1        | 1        | 178899   | 1030     | 1        | 23:33:32 | 23:33:32 | 0        | 14128    |  6       |\n",
       "| 1        | 1        | 178899   | 1035     | 1        | 23:33:56 | 23:33:56 | 0        | 14128    |  7       |\n",
       "| 1        | 1        | 178899   | 1040     | 1        | 23:34:11 | 23:34:11 | 0        | 14128    |  8       |\n",
       "| 1        | 1        | 178899   | 1045     | 1        | 23:34:36 | 23:34:36 | 0        | 14128    |  9       |\n",
       "| 1        | 1        | 178899   | 1050     | 1        | 23:35:09 | 23:35:09 | 0        | 14128    | 10       |\n",
       "\n"
      ],
      "text/plain": [
       "   route_id route_short_name trip_id stop_id service_id arrival_time\n",
       "1  1        1                178899  1000    1          23:30:00    \n",
       "2  1        1                178899  1010    1          23:31:34    \n",
       "3  1        1                178899  1015    1          23:31:54    \n",
       "4  1        1                178899  1020    1          23:32:31    \n",
       "5  1        1                178899  1025    1          23:33:05    \n",
       "6  1        1                178899  1030    1          23:33:32    \n",
       "7  1        1                178899  1035    1          23:33:56    \n",
       "8  1        1                178899  1040    1          23:34:11    \n",
       "9  1        1                178899  1045    1          23:34:36    \n",
       "10 1        1                178899  1050    1          23:35:09    \n",
       "   departure_time direction_id shape_id stop_sequence\n",
       "1  23:30:00       0            14128     1           \n",
       "2  23:31:34       0            14128     2           \n",
       "3  23:31:54       0            14128     3           \n",
       "4  23:32:31       0            14128     4           \n",
       "5  23:33:05       0            14128     5           \n",
       "6  23:33:32       0            14128     6           \n",
       "7  23:33:56       0            14128     7           \n",
       "8  23:34:11       0            14128     8           \n",
       "9  23:34:36       0            14128     9           \n",
       "10 23:35:09       0            14128    10           "
      ]
     },
     "metadata": {},
     "output_type": "display_data"
    }
   ],
   "source": [
    "head(stop_times, 10)"
   ]
  },
  {
   "cell_type": "code",
   "execution_count": 20,
   "metadata": {},
   "outputs": [
    {
     "data": {
      "text/html": [
       "<table>\n",
       "<thead><tr><th scope=col>service_id</th><th scope=col>n</th></tr></thead>\n",
       "<tbody>\n",
       "\t<tr><td>5  </td><td>741</td></tr>\n",
       "\t<tr><td>1  </td><td>534</td></tr>\n",
       "\t<tr><td>2  </td><td>330</td></tr>\n",
       "</tbody>\n",
       "</table>\n"
      ],
      "text/latex": [
       "\\begin{tabular}{r|ll}\n",
       " service\\_id & n\\\\\n",
       "\\hline\n",
       "\t 5   & 741\\\\\n",
       "\t 1   & 534\\\\\n",
       "\t 2   & 330\\\\\n",
       "\\end{tabular}\n"
      ],
      "text/markdown": [
       "\n",
       "| service_id | n |\n",
       "|---|---|\n",
       "| 5   | 741 |\n",
       "| 1   | 534 |\n",
       "| 2   | 330 |\n",
       "\n"
      ],
      "text/plain": [
       "  service_id n  \n",
       "1 5          741\n",
       "2 1          534\n",
       "3 2          330"
      ]
     },
     "metadata": {},
     "output_type": "display_data"
    }
   ],
   "source": [
    "#selecting the service-id with more trips\n",
    "trips %>% \n",
    "  group_by(service_id) %>% \n",
    "  count(service_id) %>%\n",
    "  arrange(desc(n))"
   ]
  },
  {
   "cell_type": "code",
   "execution_count": 21,
   "metadata": {},
   "outputs": [],
   "source": [
    "bigger_service <- trips %>% \n",
    "  group_by(service_id) %>% \n",
    "  count(service_id) %>%\n",
    "  arrange(desc(n)) %>% \n",
    "  head(1)"
   ]
  },
  {
   "cell_type": "code",
   "execution_count": 22,
   "metadata": {},
   "outputs": [
    {
     "data": {
      "text/html": [
       "<table>\n",
       "<thead><tr><th scope=col>route_id</th><th scope=col>route_short_name</th><th scope=col>trip_id</th><th scope=col>stop_id</th><th scope=col>service_id</th><th scope=col>arrival_time</th><th scope=col>departure_time</th><th scope=col>direction_id</th><th scope=col>shape_id</th><th scope=col>stop_sequence</th></tr></thead>\n",
       "<tbody>\n",
       "\t<tr><td>1       </td><td>1       </td><td>178854  </td><td>1000    </td><td>5       </td><td> 8:15:00</td><td> 8:15:00</td><td>0       </td><td>14127   </td><td>1       </td></tr>\n",
       "\t<tr><td>1       </td><td>1       </td><td>178855  </td><td>1000    </td><td>5       </td><td> 8:00:00</td><td> 8:00:00</td><td>0       </td><td>14126   </td><td>1       </td></tr>\n",
       "\t<tr><td>1       </td><td>1       </td><td>178856  </td><td>1000    </td><td>5       </td><td> 7:45:00</td><td> 7:45:00</td><td>0       </td><td>14127   </td><td>1       </td></tr>\n",
       "\t<tr><td>1       </td><td>1       </td><td>178857  </td><td>1000    </td><td>5       </td><td> 7:30:00</td><td> 7:30:00</td><td>0       </td><td>14126   </td><td>1       </td></tr>\n",
       "\t<tr><td>1       </td><td>1       </td><td>178858  </td><td>1000    </td><td>5       </td><td> 7:00:00</td><td> 7:00:00</td><td>0       </td><td>14125   </td><td>1       </td></tr>\n",
       "\t<tr><td>1       </td><td>1       </td><td>178859  </td><td>1000    </td><td>5       </td><td> 6:30:00</td><td> 6:30:00</td><td>0       </td><td>14125   </td><td>1       </td></tr>\n",
       "</tbody>\n",
       "</table>\n"
      ],
      "text/latex": [
       "\\begin{tabular}{r|llllllllll}\n",
       " route\\_id & route\\_short\\_name & trip\\_id & stop\\_id & service\\_id & arrival\\_time & departure\\_time & direction\\_id & shape\\_id & stop\\_sequence\\\\\n",
       "\\hline\n",
       "\t 1        & 1        & 178854   & 1000     & 5        &  8:15:00 &  8:15:00 & 0        & 14127    & 1       \\\\\n",
       "\t 1        & 1        & 178855   & 1000     & 5        &  8:00:00 &  8:00:00 & 0        & 14126    & 1       \\\\\n",
       "\t 1        & 1        & 178856   & 1000     & 5        &  7:45:00 &  7:45:00 & 0        & 14127    & 1       \\\\\n",
       "\t 1        & 1        & 178857   & 1000     & 5        &  7:30:00 &  7:30:00 & 0        & 14126    & 1       \\\\\n",
       "\t 1        & 1        & 178858   & 1000     & 5        &  7:00:00 &  7:00:00 & 0        & 14125    & 1       \\\\\n",
       "\t 1        & 1        & 178859   & 1000     & 5        &  6:30:00 &  6:30:00 & 0        & 14125    & 1       \\\\\n",
       "\\end{tabular}\n"
      ],
      "text/markdown": [
       "\n",
       "| route_id | route_short_name | trip_id | stop_id | service_id | arrival_time | departure_time | direction_id | shape_id | stop_sequence |\n",
       "|---|---|---|---|---|---|---|---|---|---|\n",
       "| 1        | 1        | 178854   | 1000     | 5        |  8:15:00 |  8:15:00 | 0        | 14127    | 1        |\n",
       "| 1        | 1        | 178855   | 1000     | 5        |  8:00:00 |  8:00:00 | 0        | 14126    | 1        |\n",
       "| 1        | 1        | 178856   | 1000     | 5        |  7:45:00 |  7:45:00 | 0        | 14127    | 1        |\n",
       "| 1        | 1        | 178857   | 1000     | 5        |  7:30:00 |  7:30:00 | 0        | 14126    | 1        |\n",
       "| 1        | 1        | 178858   | 1000     | 5        |  7:00:00 |  7:00:00 | 0        | 14125    | 1        |\n",
       "| 1        | 1        | 178859   | 1000     | 5        |  6:30:00 |  6:30:00 | 0        | 14125    | 1        |\n",
       "\n"
      ],
      "text/plain": [
       "  route_id route_short_name trip_id stop_id service_id arrival_time\n",
       "1 1        1                178854  1000    5           8:15:00    \n",
       "2 1        1                178855  1000    5           8:00:00    \n",
       "3 1        1                178856  1000    5           7:45:00    \n",
       "4 1        1                178857  1000    5           7:30:00    \n",
       "5 1        1                178858  1000    5           7:00:00    \n",
       "6 1        1                178859  1000    5           6:30:00    \n",
       "  departure_time direction_id shape_id stop_sequence\n",
       "1  8:15:00       0            14127    1            \n",
       "2  8:00:00       0            14126    1            \n",
       "3  7:45:00       0            14127    1            \n",
       "4  7:30:00       0            14126    1            \n",
       "5  7:00:00       0            14125    1            \n",
       "6  6:30:00       0            14125    1            "
      ]
     },
     "metadata": {},
     "output_type": "display_data"
    }
   ],
   "source": [
    "#filtering by service_id, stop-sequence and direction-id\n",
    "stop_times <- stop_times %>% \n",
    "  filter(\n",
    "    stop_sequence == 1 & \n",
    "      direction_id == 0 &\n",
    "      service_id == bigger_service$service_id)\n",
    " \n",
    "head(stop_times)"
   ]
  },
  {
   "cell_type": "code",
   "execution_count": 23,
   "metadata": {},
   "outputs": [
    {
     "name": "stderr",
     "output_type": "stream",
     "text": [
      "Warning message in ifelse(as.integer(substr(arrival_time, 1, 2)) < 24, as.integer(substr(arrival_time, :\n",
      "\"NAs introduced by coercion\"Warning message in ifelse(as.integer(substr(arrival_time, 1, 2)) < 24, as.integer(substr(arrival_time, :\n",
      "\"NAs introduced by coercion\"Warning message in ifelse(as.integer(substr(departure_time, 1, 2)) < 24, as.integer(substr(departure_time, :\n",
      "\"NAs introduced by coercion\"Warning message in ifelse(as.integer(substr(departure_time, 1, 2)) < 24, as.integer(substr(departure_time, :\n",
      "\"NAs introduced by coercion\""
     ]
    },
    {
     "data": {
      "text/html": [
       "<table>\n",
       "<thead><tr><th scope=col>route_id</th><th scope=col>route_short_name</th><th scope=col>trip_id</th><th scope=col>stop_id</th><th scope=col>service_id</th><th scope=col>arrival_time</th><th scope=col>departure_time</th><th scope=col>direction_id</th><th scope=col>shape_id</th><th scope=col>stop_sequence</th></tr></thead>\n",
       "<tbody>\n",
       "\t<tr><td>1     </td><td>1     </td><td>178854</td><td>1000  </td><td>5     </td><td>8     </td><td>8     </td><td>0     </td><td>14127 </td><td>1     </td></tr>\n",
       "\t<tr><td>1     </td><td>1     </td><td>178855</td><td>1000  </td><td>5     </td><td>8     </td><td>8     </td><td>0     </td><td>14126 </td><td>1     </td></tr>\n",
       "\t<tr><td>1     </td><td>1     </td><td>178856</td><td>1000  </td><td>5     </td><td>7     </td><td>7     </td><td>0     </td><td>14127 </td><td>1     </td></tr>\n",
       "\t<tr><td>1     </td><td>1     </td><td>178857</td><td>1000  </td><td>5     </td><td>7     </td><td>7     </td><td>0     </td><td>14126 </td><td>1     </td></tr>\n",
       "\t<tr><td>1     </td><td>1     </td><td>178858</td><td>1000  </td><td>5     </td><td>7     </td><td>7     </td><td>0     </td><td>14125 </td><td>1     </td></tr>\n",
       "\t<tr><td>1     </td><td>1     </td><td>178859</td><td>1000  </td><td>5     </td><td>6     </td><td>6     </td><td>0     </td><td>14125 </td><td>1     </td></tr>\n",
       "</tbody>\n",
       "</table>\n"
      ],
      "text/latex": [
       "\\begin{tabular}{r|llllllllll}\n",
       " route\\_id & route\\_short\\_name & trip\\_id & stop\\_id & service\\_id & arrival\\_time & departure\\_time & direction\\_id & shape\\_id & stop\\_sequence\\\\\n",
       "\\hline\n",
       "\t 1      & 1      & 178854 & 1000   & 5      & 8      & 8      & 0      & 14127  & 1     \\\\\n",
       "\t 1      & 1      & 178855 & 1000   & 5      & 8      & 8      & 0      & 14126  & 1     \\\\\n",
       "\t 1      & 1      & 178856 & 1000   & 5      & 7      & 7      & 0      & 14127  & 1     \\\\\n",
       "\t 1      & 1      & 178857 & 1000   & 5      & 7      & 7      & 0      & 14126  & 1     \\\\\n",
       "\t 1      & 1      & 178858 & 1000   & 5      & 7      & 7      & 0      & 14125  & 1     \\\\\n",
       "\t 1      & 1      & 178859 & 1000   & 5      & 6      & 6      & 0      & 14125  & 1     \\\\\n",
       "\\end{tabular}\n"
      ],
      "text/markdown": [
       "\n",
       "| route_id | route_short_name | trip_id | stop_id | service_id | arrival_time | departure_time | direction_id | shape_id | stop_sequence |\n",
       "|---|---|---|---|---|---|---|---|---|---|\n",
       "| 1      | 1      | 178854 | 1000   | 5      | 8      | 8      | 0      | 14127  | 1      |\n",
       "| 1      | 1      | 178855 | 1000   | 5      | 8      | 8      | 0      | 14126  | 1      |\n",
       "| 1      | 1      | 178856 | 1000   | 5      | 7      | 7      | 0      | 14127  | 1      |\n",
       "| 1      | 1      | 178857 | 1000   | 5      | 7      | 7      | 0      | 14126  | 1      |\n",
       "| 1      | 1      | 178858 | 1000   | 5      | 7      | 7      | 0      | 14125  | 1      |\n",
       "| 1      | 1      | 178859 | 1000   | 5      | 6      | 6      | 0      | 14125  | 1      |\n",
       "\n"
      ],
      "text/plain": [
       "  route_id route_short_name trip_id stop_id service_id arrival_time\n",
       "1 1        1                178854  1000    5          8           \n",
       "2 1        1                178855  1000    5          8           \n",
       "3 1        1                178856  1000    5          7           \n",
       "4 1        1                178857  1000    5          7           \n",
       "5 1        1                178858  1000    5          7           \n",
       "6 1        1                178859  1000    5          6           \n",
       "  departure_time direction_id shape_id stop_sequence\n",
       "1 8              0            14127    1            \n",
       "2 8              0            14126    1            \n",
       "3 7              0            14127    1            \n",
       "4 7              0            14126    1            \n",
       "5 7              0            14125    1            \n",
       "6 6              0            14125    1            "
      ]
     },
     "metadata": {},
     "output_type": "display_data"
    }
   ],
   "source": [
    "#transforming characters \n",
    "stop_times <- stop_times %>% \n",
    "  mutate(\n",
    "    arrival_time = ifelse(\n",
    "      as.integer(substr(arrival_time, 1, 2)) < 24,\n",
    "      as.integer(substr(arrival_time, 1, 2)),\n",
    "      as.integer(substr(arrival_time, 1, 2)) - 24),\n",
    "    departure_time = ifelse(\n",
    "      as.integer(substr(departure_time, 1, 2)) < 24,\n",
    "      as.integer(substr(departure_time, 1, 2)),\n",
    "      as.integer(substr(departure_time, 1, 2)) -24)\n",
    "    )\n",
    "head(stop_times)"
   ]
  },
  {
   "cell_type": "code",
   "execution_count": 25,
   "metadata": {},
   "outputs": [
    {
     "data": {
      "text/html": [
       "<table>\n",
       "<thead><tr><th scope=col>route_id</th><th scope=col>route_short_name</th><th scope=col>arrival_time</th><th scope=col>time_window</th><th scope=col>n</th></tr></thead>\n",
       "<tbody>\n",
       "\t<tr><td>1    </td><td>1    </td><td> 6   </td><td>6:00 </td><td>1    </td></tr>\n",
       "\t<tr><td>1    </td><td>1    </td><td> 7   </td><td>7:00 </td><td>3    </td></tr>\n",
       "\t<tr><td>1    </td><td>1    </td><td> 8   </td><td>8:00 </td><td>3    </td></tr>\n",
       "\t<tr><td>1    </td><td>1    </td><td> 9   </td><td>9:00 </td><td>2    </td></tr>\n",
       "\t<tr><td>1    </td><td>1    </td><td>10   </td><td>10:00</td><td>2    </td></tr>\n",
       "\t<tr><td>1    </td><td>1    </td><td>11   </td><td>11:00</td><td>1    </td></tr>\n",
       "</tbody>\n",
       "</table>\n"
      ],
      "text/latex": [
       "\\begin{tabular}{r|lllll}\n",
       " route\\_id & route\\_short\\_name & arrival\\_time & time\\_window & n\\\\\n",
       "\\hline\n",
       "\t 1     & 1     &  6    & 6:00  & 1    \\\\\n",
       "\t 1     & 1     &  7    & 7:00  & 3    \\\\\n",
       "\t 1     & 1     &  8    & 8:00  & 3    \\\\\n",
       "\t 1     & 1     &  9    & 9:00  & 2    \\\\\n",
       "\t 1     & 1     & 10    & 10:00 & 2    \\\\\n",
       "\t 1     & 1     & 11    & 11:00 & 1    \\\\\n",
       "\\end{tabular}\n"
      ],
      "text/markdown": [
       "\n",
       "| route_id | route_short_name | arrival_time | time_window | n |\n",
       "|---|---|---|---|---|\n",
       "| 1     | 1     |  6    | 6:00  | 1     |\n",
       "| 1     | 1     |  7    | 7:00  | 3     |\n",
       "| 1     | 1     |  8    | 8:00  | 3     |\n",
       "| 1     | 1     |  9    | 9:00  | 2     |\n",
       "| 1     | 1     | 10    | 10:00 | 2     |\n",
       "| 1     | 1     | 11    | 11:00 | 1     |\n",
       "\n"
      ],
      "text/plain": [
       "  route_id route_short_name arrival_time time_window n\n",
       "1 1        1                 6           6:00        1\n",
       "2 1        1                 7           7:00        3\n",
       "3 1        1                 8           8:00        3\n",
       "4 1        1                 9           9:00        2\n",
       "5 1        1                10           10:00       2\n",
       "6 1        1                11           11:00       1"
      ]
     },
     "metadata": {},
     "output_type": "display_data"
    }
   ],
   "source": [
    "#calculate the number of trips per hour\n",
    "output_data <- stop_times %>% \n",
    "  group_by_at(vars(route_id, route_short_name, arrival_time)) %>% \n",
    "  count(arrival_time) %>%\n",
    "  mutate(time_window = paste(arrival_time, '00', sep = ':')) %>% \n",
    "  select(route_id, route_short_name, arrival_time, time_window, n)\n",
    "head(output_data)"
   ]
  },
  {
   "cell_type": "code",
   "execution_count": 26,
   "metadata": {},
   "outputs": [],
   "source": [
    "write.csv(output_data, \"trips_per_hour.csv\")"
   ]
  },
  {
   "cell_type": "code",
   "execution_count": 30,
   "metadata": {
    "scrolled": true
   },
   "outputs": [
    {
     "data": {
      "text/html": [
       "<table>\n",
       "<thead><tr><th scope=col>route_id</th><th scope=col>route_short_name</th><th scope=col>arrival_time</th><th scope=col>time_window</th><th scope=col>n</th></tr></thead>\n",
       "<tbody>\n",
       "\t<tr><td>1    </td><td>1    </td><td> 6   </td><td>6:00 </td><td>1    </td></tr>\n",
       "\t<tr><td>1    </td><td>1    </td><td> 7   </td><td>7:00 </td><td>3    </td></tr>\n",
       "\t<tr><td>1    </td><td>1    </td><td> 8   </td><td>8:00 </td><td>3    </td></tr>\n",
       "\t<tr><td>1    </td><td>1    </td><td> 9   </td><td>9:00 </td><td>2    </td></tr>\n",
       "\t<tr><td>1    </td><td>1    </td><td>10   </td><td>10:00</td><td>2    </td></tr>\n",
       "\t<tr><td>1    </td><td>1    </td><td>11   </td><td>11:00</td><td>1    </td></tr>\n",
       "\t<tr><td>1    </td><td>1    </td><td>12   </td><td>12:00</td><td>2    </td></tr>\n",
       "\t<tr><td>1    </td><td>1    </td><td>13   </td><td>13:00</td><td>2    </td></tr>\n",
       "\t<tr><td>1    </td><td>1    </td><td>14   </td><td>14:00</td><td>3    </td></tr>\n",
       "\t<tr><td>1    </td><td>1    </td><td>15   </td><td>15:00</td><td>4    </td></tr>\n",
       "\t<tr><td>1    </td><td>1    </td><td>16   </td><td>16:00</td><td>4    </td></tr>\n",
       "\t<tr><td>1    </td><td>1    </td><td>17   </td><td>17:00</td><td>2    </td></tr>\n",
       "\t<tr><td>1    </td><td>1    </td><td>18   </td><td>18:00</td><td>2    </td></tr>\n",
       "\t<tr><td>1    </td><td>1    </td><td>19   </td><td>19:00</td><td>1    </td></tr>\n",
       "\t<tr><td>1    </td><td>1    </td><td>20   </td><td>20:00</td><td>1    </td></tr>\n",
       "\t<tr><td>1    </td><td>1    </td><td>21   </td><td>21:00</td><td>1    </td></tr>\n",
       "\t<tr><td>1    </td><td>1    </td><td>22   </td><td>22:00</td><td>1    </td></tr>\n",
       "\t<tr><td>1    </td><td>1    </td><td>23   </td><td>23:00</td><td>1    </td></tr>\n",
       "</tbody>\n",
       "</table>\n"
      ],
      "text/latex": [
       "\\begin{tabular}{r|lllll}\n",
       " route\\_id & route\\_short\\_name & arrival\\_time & time\\_window & n\\\\\n",
       "\\hline\n",
       "\t 1     & 1     &  6    & 6:00  & 1    \\\\\n",
       "\t 1     & 1     &  7    & 7:00  & 3    \\\\\n",
       "\t 1     & 1     &  8    & 8:00  & 3    \\\\\n",
       "\t 1     & 1     &  9    & 9:00  & 2    \\\\\n",
       "\t 1     & 1     & 10    & 10:00 & 2    \\\\\n",
       "\t 1     & 1     & 11    & 11:00 & 1    \\\\\n",
       "\t 1     & 1     & 12    & 12:00 & 2    \\\\\n",
       "\t 1     & 1     & 13    & 13:00 & 2    \\\\\n",
       "\t 1     & 1     & 14    & 14:00 & 3    \\\\\n",
       "\t 1     & 1     & 15    & 15:00 & 4    \\\\\n",
       "\t 1     & 1     & 16    & 16:00 & 4    \\\\\n",
       "\t 1     & 1     & 17    & 17:00 & 2    \\\\\n",
       "\t 1     & 1     & 18    & 18:00 & 2    \\\\\n",
       "\t 1     & 1     & 19    & 19:00 & 1    \\\\\n",
       "\t 1     & 1     & 20    & 20:00 & 1    \\\\\n",
       "\t 1     & 1     & 21    & 21:00 & 1    \\\\\n",
       "\t 1     & 1     & 22    & 22:00 & 1    \\\\\n",
       "\t 1     & 1     & 23    & 23:00 & 1    \\\\\n",
       "\\end{tabular}\n"
      ],
      "text/markdown": [
       "\n",
       "| route_id | route_short_name | arrival_time | time_window | n |\n",
       "|---|---|---|---|---|\n",
       "| 1     | 1     |  6    | 6:00  | 1     |\n",
       "| 1     | 1     |  7    | 7:00  | 3     |\n",
       "| 1     | 1     |  8    | 8:00  | 3     |\n",
       "| 1     | 1     |  9    | 9:00  | 2     |\n",
       "| 1     | 1     | 10    | 10:00 | 2     |\n",
       "| 1     | 1     | 11    | 11:00 | 1     |\n",
       "| 1     | 1     | 12    | 12:00 | 2     |\n",
       "| 1     | 1     | 13    | 13:00 | 2     |\n",
       "| 1     | 1     | 14    | 14:00 | 3     |\n",
       "| 1     | 1     | 15    | 15:00 | 4     |\n",
       "| 1     | 1     | 16    | 16:00 | 4     |\n",
       "| 1     | 1     | 17    | 17:00 | 2     |\n",
       "| 1     | 1     | 18    | 18:00 | 2     |\n",
       "| 1     | 1     | 19    | 19:00 | 1     |\n",
       "| 1     | 1     | 20    | 20:00 | 1     |\n",
       "| 1     | 1     | 21    | 21:00 | 1     |\n",
       "| 1     | 1     | 22    | 22:00 | 1     |\n",
       "| 1     | 1     | 23    | 23:00 | 1     |\n",
       "\n"
      ],
      "text/plain": [
       "   route_id route_short_name arrival_time time_window n\n",
       "1  1        1                 6           6:00        1\n",
       "2  1        1                 7           7:00        3\n",
       "3  1        1                 8           8:00        3\n",
       "4  1        1                 9           9:00        2\n",
       "5  1        1                10           10:00       2\n",
       "6  1        1                11           11:00       1\n",
       "7  1        1                12           12:00       2\n",
       "8  1        1                13           13:00       2\n",
       "9  1        1                14           14:00       3\n",
       "10 1        1                15           15:00       4\n",
       "11 1        1                16           16:00       4\n",
       "12 1        1                17           17:00       2\n",
       "13 1        1                18           18:00       2\n",
       "14 1        1                19           19:00       1\n",
       "15 1        1                20           20:00       1\n",
       "16 1        1                21           21:00       1\n",
       "17 1        1                22           22:00       1\n",
       "18 1        1                23           23:00       1"
      ]
     },
     "metadata": {},
     "output_type": "display_data"
    }
   ],
   "source": [
    "line <- output_data %>% \n",
    "  filter(route_id == '1')\n",
    "line"
   ]
  },
  {
   "cell_type": "code",
   "execution_count": 31,
   "metadata": {},
   "outputs": [],
   "source": [
    "#factorize time window\n",
    "line$time_window <- factor(line$time_window, levels = unique(line$time_window))"
   ]
  },
  {
   "cell_type": "code",
   "execution_count": 33,
   "metadata": {},
   "outputs": [
    {
     "name": "stderr",
     "output_type": "stream",
     "text": [
      "also installing the dependencies 'XML', 'rlist', 'igraph', 'rjson'\n",
      "\n"
     ]
    },
    {
     "name": "stdout",
     "output_type": "stream",
     "text": [
      "package 'XML' successfully unpacked and MD5 sums checked\n",
      "package 'rlist' successfully unpacked and MD5 sums checked\n",
      "package 'igraph' successfully unpacked and MD5 sums checked\n",
      "package 'rjson' successfully unpacked and MD5 sums checked\n",
      "package 'highcharter' successfully unpacked and MD5 sums checked\n",
      "\n",
      "The downloaded binary packages are in\n",
      "\tC:\\Users\\Sumayyah Musa\\AppData\\Local\\Temp\\Rtmp8Y0IjM\\downloaded_packages\n"
     ]
    }
   ],
   "source": []
  },
  {
   "cell_type": "code",
   "execution_count": null,
   "metadata": {},
   "outputs": [],
   "source": []
  }
 ],
 "metadata": {
  "kernelspec": {
   "display_name": "R",
   "language": "R",
   "name": "ir"
  },
  "language_info": {
   "codemirror_mode": "r",
   "file_extension": ".r",
   "mimetype": "text/x-r-source",
   "name": "R",
   "pygments_lexer": "r",
   "version": "3.6.1"
  }
 },
 "nbformat": 4,
 "nbformat_minor": 4
}
